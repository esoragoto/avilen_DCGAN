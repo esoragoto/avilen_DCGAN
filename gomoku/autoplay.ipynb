{
 "cells": [
  {
   "cell_type": "markdown",
   "metadata": {
    "colab_type": "text",
    "id": "WeaWsmHhF08a"
   },
   "source": [
    "# 五目並べAIによる自己対戦\n",
    "\n",
    "自己対戦をしながら各マスにおける予測valueを色で出力します。"
   ]
  },
  {
   "cell_type": "code",
   "execution_count": null,
   "metadata": {
    "colab": {},
    "colab_type": "code",
    "id": "utG_UMRPF08b"
   },
   "outputs": [],
   "source": [
    "import numpy as np\n",
    "import random as rd\n",
    "import copy\n",
    "from time import time\n",
    "from gomoku import *\n",
    "from value_network import *\n",
    "from ai import *"
   ]
  },
  {
   "cell_type": "code",
   "execution_count": null,
   "metadata": {
    "colab": {},
    "colab_type": "code",
    "id": "aznMzGZsF08g"
   },
   "outputs": [],
   "source": [
    "size = 9\n",
    "model = value_network_model()"
   ]
  },
  {
   "cell_type": "code",
   "execution_count": null,
   "metadata": {
    "colab": {},
    "colab_type": "code",
    "id": "f-4P-E2vF08j"
   },
   "outputs": [],
   "source": [
    "g = Game()\n",
    "for i in range(size*size):\n",
    "    ep = 0\n",
    "    value_out(g, model)\n",
    "    start = time()\n",
    "    g = ai_put(g, model, random=0.02)\n",
    "    end = time()\n",
    "    if g.end_game() != 0:\n",
    "        break\n",
    "value_out(g, model)\n",
    "eg = g.end_game()\n",
    "result = 'DRAW' if eg is 0 else 'BLACK WIN' if eg is 1 else 'WHITE WIN'\n",
    "print(result)"
   ]
  }
 ],
 "metadata": {
  "accelerator": "GPU",
  "colab": {
   "collapsed_sections": [],
   "name": "autoplay.ipynb",
   "provenance": [],
   "toc_visible": true
  },
  "kernelspec": {
   "display_name": "Python 3",
   "language": "python",
   "name": "python3"
  },
  "language_info": {
   "codemirror_mode": {
    "name": "ipython",
    "version": 3
   },
   "file_extension": ".py",
   "mimetype": "text/x-python",
   "name": "python",
   "nbconvert_exporter": "python",
   "pygments_lexer": "ipython3",
   "version": "3.6.12"
  }
 },
 "nbformat": 4,
 "nbformat_minor": 1
}
